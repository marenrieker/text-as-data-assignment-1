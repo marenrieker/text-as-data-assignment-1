{
 "cells": [
  {
   "cell_type": "code",
   "execution_count": 52,
   "id": "69c503c0",
   "metadata": {
    "scrolled": true
   },
   "outputs": [
    {
     "name": "stderr",
     "output_type": "stream",
     "text": [
      "/Users/marenrieker/.local/share/virtualenvs/Assignments-GLOq7LzH/lib/python3.10/site-packages/urllib3/connectionpool.py:1045: InsecureRequestWarning: Unverified HTTPS request is being made to host 'www.gutenberg.org'. Adding certificate verification is strongly advised. See: https://urllib3.readthedocs.io/en/1.26.x/advanced-usage.html#ssl-warnings\n",
      "  warnings.warn(\n"
     ]
    }
   ],
   "source": [
    "import re\n",
    "import pandas as pd\n",
    "import numpy as np\n",
    "import requests\n",
    "\n",
    "#data = urllib.request.urlopen(\"https://www.gutenberg.org/cache/epub/1934/pg1934.txt\")\n",
    "\n",
    "#data = http.client.HTTPSConnection(\"https://www.gutenberg.org/cache/epub/1934/pg1934.txt\")\n",
    "\n",
    "data = requests.get(\"https://www.gutenberg.org/cache/epub/1934/pg1934.txt\", verify=False)"
   ]
  },
  {
   "cell_type": "code",
   "execution_count": 53,
   "id": "71535736",
   "metadata": {},
   "outputs": [],
   "source": [
    "text = data.text"
   ]
  },
  {
   "cell_type": "code",
   "execution_count": 54,
   "id": "6897c15c",
   "metadata": {},
   "outputs": [],
   "source": [
    "index_start = text.find(\"The Voice of the Ancient Bard\\r\\n\\r\\n\\r\\n\\r\\n\\r\\n\") \n",
    "index_start += len(\"The Voice of the Ancient Bard\\r\\n\\r\\n\\r\\n\\r\\n\\r\\n\")\n",
    "#index_end = text.find(\"*** END OF THE PROJECT GUTENBERG EBOOK SONGS OF INNOCENCE ANF OF EXPERIENCE ***\")\n",
    "index_end = text.find(\"And wish to lead others, when they should be led.\")"
   ]
  },
  {
   "cell_type": "code",
   "execution_count": 55,
   "id": "92577adb",
   "metadata": {},
   "outputs": [],
   "source": [
    "#selecting text from index start to end\n",
    "text = text[index_start:index_end]"
   ]
  },
  {
   "cell_type": "code",
   "execution_count": 56,
   "id": "a125e5de",
   "metadata": {},
   "outputs": [],
   "source": [
    "list_poems = text.split(\"\\r\\n\\r\\n\\r\\n\\r\\n\")\n",
    "#note that the last line of the last poem is missing; there seems to be a problem with splitting before\n",
    "#\"*** END OF THE PROJECT GUTENBERG EBOOK SONGS OF INNOCENCE ANF OF EXPERIENCE ***\", but i chose to keep this\n",
    "#mistake rather than extracting the last line but also extracting many lines of unnecessary legal statements\n",
    "#fix if time"
   ]
  },
  {
   "cell_type": "code",
   "execution_count": 57,
   "id": "e15d01b0",
   "metadata": {},
   "outputs": [],
   "source": [
    "pattern = re.compile(\"[A-Z]+\\s?[A-Z]{2}\")\n",
    "def poem_data(poem):\n",
    "    title = ''\n",
    "    l = []\n",
    "    stanza = -1\n",
    "    line_number = -1\n",
    "    book_title = \"SONGS OF INNOCENCE\"\n",
    "    for zeile in poem.split(\"\\r\\n\"):\n",
    "        if zeile == \"\":\n",
    "            stanza += 1\n",
    "        if zeile != \"\":\n",
    "            line_number = line_number + 1\n",
    "        if zeile == \"SONGS OF EXPERIENCE\":\n",
    "            book_title = \"SONGS OF EXPERIENCE\"\n",
    "        if re.match(pattern, zeile) != None:\n",
    "            title = zeile\n",
    "        l.append({\"poem_title\" : title, \"stanza_number\" : stanza, \n",
    "                  \"line_number\" : line_number, 'book_title': book_title,\n",
    "                 'line': zeile})\n",
    "    return pd.DataFrame.from_records(l)\n",
    "    "
   ]
  },
  {
   "cell_type": "code",
   "execution_count": 58,
   "id": "3453fab7",
   "metadata": {},
   "outputs": [],
   "source": [
    "poem_l = [poem_data(poem) for poem in list_poems]"
   ]
  },
  {
   "cell_type": "code",
   "execution_count": 59,
   "id": "2f582313",
   "metadata": {},
   "outputs": [],
   "source": [
    "df = pd.concat(poem_l)"
   ]
  },
  {
   "cell_type": "code",
   "execution_count": 60,
   "id": "6d971f4f",
   "metadata": {},
   "outputs": [],
   "source": [
    "df = df[(df['poem_title'] != 'songs of innocence') & (df['poem_title'] != 'songs of experience') & (df['line'] != '')] "
   ]
  },
  {
   "cell_type": "code",
   "execution_count": 61,
   "id": "fb063950",
   "metadata": {},
   "outputs": [],
   "source": [
    "#delete poem titles that were assigned from book titles\n",
    "df = df[df.poem_title != df.line]\n",
    "\n",
    "#substracting 1 from the stanza_number, because it somehow starts directly from two\n",
    "df['stanza_number'] = [st_n - 1 for st_n in df.stanza_number]"
   ]
  },
  {
   "cell_type": "code",
   "execution_count": 62,
   "id": "df869638",
   "metadata": {},
   "outputs": [
    {
     "data": {
      "text/html": [
       "<div>\n",
       "<style scoped>\n",
       "    .dataframe tbody tr th:only-of-type {\n",
       "        vertical-align: middle;\n",
       "    }\n",
       "\n",
       "    .dataframe tbody tr th {\n",
       "        vertical-align: top;\n",
       "    }\n",
       "\n",
       "    .dataframe thead th {\n",
       "        text-align: right;\n",
       "    }\n",
       "</style>\n",
       "<table border=\"1\" class=\"dataframe\">\n",
       "  <thead>\n",
       "    <tr style=\"text-align: right;\">\n",
       "      <th></th>\n",
       "      <th>poem_title</th>\n",
       "      <th>stanza_number</th>\n",
       "      <th>line_number</th>\n",
       "      <th>book_title</th>\n",
       "      <th>line</th>\n",
       "    </tr>\n",
       "  </thead>\n",
       "  <tbody>\n",
       "    <tr>\n",
       "      <th>4</th>\n",
       "      <td>INTRODUCTION</td>\n",
       "      <td>1</td>\n",
       "      <td>1</td>\n",
       "      <td>SONGS OF INNOCENCE</td>\n",
       "      <td>Piping down the valleys wild,</td>\n",
       "    </tr>\n",
       "    <tr>\n",
       "      <th>5</th>\n",
       "      <td>INTRODUCTION</td>\n",
       "      <td>1</td>\n",
       "      <td>2</td>\n",
       "      <td>SONGS OF INNOCENCE</td>\n",
       "      <td>Piping songs of pleasant glee,</td>\n",
       "    </tr>\n",
       "    <tr>\n",
       "      <th>6</th>\n",
       "      <td>INTRODUCTION</td>\n",
       "      <td>1</td>\n",
       "      <td>3</td>\n",
       "      <td>SONGS OF INNOCENCE</td>\n",
       "      <td>On a cloud I saw a child,</td>\n",
       "    </tr>\n",
       "    <tr>\n",
       "      <th>7</th>\n",
       "      <td>INTRODUCTION</td>\n",
       "      <td>1</td>\n",
       "      <td>4</td>\n",
       "      <td>SONGS OF INNOCENCE</td>\n",
       "      <td>And he laughing said to me:</td>\n",
       "    </tr>\n",
       "    <tr>\n",
       "      <th>9</th>\n",
       "      <td>INTRODUCTION</td>\n",
       "      <td>2</td>\n",
       "      <td>5</td>\n",
       "      <td>SONGS OF INNOCENCE</td>\n",
       "      <td>‘Pipe a song about a Lamb!’</td>\n",
       "    </tr>\n",
       "    <tr>\n",
       "      <th>...</th>\n",
       "      <td>...</td>\n",
       "      <td>...</td>\n",
       "      <td>...</td>\n",
       "      <td>...</td>\n",
       "      <td>...</td>\n",
       "    </tr>\n",
       "    <tr>\n",
       "      <th>9</th>\n",
       "      <td>THE VOICE OF THE ANCIENT BARD</td>\n",
       "      <td>1</td>\n",
       "      <td>6</td>\n",
       "      <td>SONGS OF INNOCENCE</td>\n",
       "      <td>Folly is an endless maze;</td>\n",
       "    </tr>\n",
       "    <tr>\n",
       "      <th>10</th>\n",
       "      <td>THE VOICE OF THE ANCIENT BARD</td>\n",
       "      <td>1</td>\n",
       "      <td>7</td>\n",
       "      <td>SONGS OF INNOCENCE</td>\n",
       "      <td>Tangled roots perplex her ways;</td>\n",
       "    </tr>\n",
       "    <tr>\n",
       "      <th>11</th>\n",
       "      <td>THE VOICE OF THE ANCIENT BARD</td>\n",
       "      <td>1</td>\n",
       "      <td>8</td>\n",
       "      <td>SONGS OF INNOCENCE</td>\n",
       "      <td>How many have fallen there!</td>\n",
       "    </tr>\n",
       "    <tr>\n",
       "      <th>12</th>\n",
       "      <td>THE VOICE OF THE ANCIENT BARD</td>\n",
       "      <td>1</td>\n",
       "      <td>9</td>\n",
       "      <td>SONGS OF INNOCENCE</td>\n",
       "      <td>They stumble all night over bones of the dead;</td>\n",
       "    </tr>\n",
       "    <tr>\n",
       "      <th>13</th>\n",
       "      <td>THE VOICE OF THE ANCIENT BARD</td>\n",
       "      <td>1</td>\n",
       "      <td>10</td>\n",
       "      <td>SONGS OF INNOCENCE</td>\n",
       "      <td>And feel—they know not what but care;</td>\n",
       "    </tr>\n",
       "  </tbody>\n",
       "</table>\n",
       "<p>909 rows × 5 columns</p>\n",
       "</div>"
      ],
      "text/plain": [
       "                       poem_title  stanza_number  line_number  \\\n",
       "4                    INTRODUCTION              1            1   \n",
       "5                    INTRODUCTION              1            2   \n",
       "6                    INTRODUCTION              1            3   \n",
       "7                    INTRODUCTION              1            4   \n",
       "9                    INTRODUCTION              2            5   \n",
       "..                            ...            ...          ...   \n",
       "9   THE VOICE OF THE ANCIENT BARD              1            6   \n",
       "10  THE VOICE OF THE ANCIENT BARD              1            7   \n",
       "11  THE VOICE OF THE ANCIENT BARD              1            8   \n",
       "12  THE VOICE OF THE ANCIENT BARD              1            9   \n",
       "13  THE VOICE OF THE ANCIENT BARD              1           10   \n",
       "\n",
       "            book_title                                            line  \n",
       "4   SONGS OF INNOCENCE                   Piping down the valleys wild,  \n",
       "5   SONGS OF INNOCENCE                  Piping songs of pleasant glee,  \n",
       "6   SONGS OF INNOCENCE                       On a cloud I saw a child,  \n",
       "7   SONGS OF INNOCENCE                     And he laughing said to me:  \n",
       "9   SONGS OF INNOCENCE                     ‘Pipe a song about a Lamb!’  \n",
       "..                 ...                                             ...  \n",
       "9   SONGS OF INNOCENCE                       Folly is an endless maze;  \n",
       "10  SONGS OF INNOCENCE                 Tangled roots perplex her ways;  \n",
       "11  SONGS OF INNOCENCE                     How many have fallen there!  \n",
       "12  SONGS OF INNOCENCE  They stumble all night over bones of the dead;  \n",
       "13  SONGS OF INNOCENCE           And feel—they know not what but care;  \n",
       "\n",
       "[909 rows x 5 columns]"
      ]
     },
     "execution_count": 62,
     "metadata": {},
     "output_type": "execute_result"
    }
   ],
   "source": [
    "df"
   ]
  },
  {
   "cell_type": "code",
   "execution_count": null,
   "id": "161dc072",
   "metadata": {},
   "outputs": [],
   "source": []
  },
  {
   "cell_type": "code",
   "execution_count": null,
   "id": "5b19ee64",
   "metadata": {},
   "outputs": [],
   "source": []
  },
  {
   "cell_type": "code",
   "execution_count": null,
   "id": "b1e2d0b1",
   "metadata": {},
   "outputs": [],
   "source": []
  }
 ],
 "metadata": {
  "kernelspec": {
   "display_name": "Python 3 (ipykernel)",
   "language": "python",
   "name": "python3"
  },
  "language_info": {
   "codemirror_mode": {
    "name": "ipython",
    "version": 3
   },
   "file_extension": ".py",
   "mimetype": "text/x-python",
   "name": "python",
   "nbconvert_exporter": "python",
   "pygments_lexer": "ipython3",
   "version": "3.10.7"
  }
 },
 "nbformat": 4,
 "nbformat_minor": 5
}
